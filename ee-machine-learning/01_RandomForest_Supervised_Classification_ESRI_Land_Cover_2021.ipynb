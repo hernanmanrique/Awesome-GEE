{
  "cells": [
    {
      "cell_type": "markdown",
      "metadata": {
        "id": "view-in-github",
        "colab_type": "text"
      },
      "source": [
        "<a href=\"https://colab.research.google.com/github/hernanmanrique/Awesome-GEE/blob/master/ee-machine-learning/01_RandomForest_Supervised_Classification_ESRI_Land_Cover_2021.ipynb\" target=\"_parent\"><img src=\"https://colab.research.google.com/assets/colab-badge.svg\" alt=\"Open In Colab\"/></a>"
      ]
    },
    {
      "cell_type": "markdown",
      "metadata": {
        "id": "qo3bufHCF6ag"
      },
      "source": [
        "### Random Forest Supervised Classification with Landsat 8 and ESRI land cover training data."
      ]
    },
    {
      "cell_type": "code",
      "execution_count": 4,
      "metadata": {
        "id": "1siHy09mF6al"
      },
      "outputs": [],
      "source": [
        "#Import libraries\n",
        "import ee\n",
        "\n",
        "# Trigger ee authentication \n",
        "#ee.Authenticate()\n",
        " \n",
        "# Initialize ee library\n",
        "ee.Initialize()"
      ]
    },
    {
      "cell_type": "code",
      "source": [
        "#ROI\n",
        "roi = ee.Geometry.Point([38.5914, 7.71])\n",
        "location = roi.centroid().coordinates().getInfo()[::-1]\n",
        "\n",
        "# Load Landsat 8 data\n",
        "bands = ['B1', 'B2', 'B3', 'B4', 'B5', 'B7']\n",
        "image = ee.ImageCollection('LANDSAT/LC08/C01/T1_SR') \\\n",
        ".filterDate('2021-01-01', '2021-12-31') \\\n",
        ".filterBounds(roi) \\\n",
        ".sort('CLOUD_COVER') \\\n",
        ".first()"
      ],
      "metadata": {
        "id": "oDQWBm9JEIjV"
      },
      "execution_count": 5,
      "outputs": []
    },
    {
      "cell_type": "code",
      "source": [
        "display(roi)"
      ],
      "metadata": {
        "id": "Rm4pNE_KH9uw",
        "outputId": "7829fd72-82af-468e-8709-ff3e3ba0b658",
        "colab": {
          "base_uri": "https://localhost:8080/",
          "height": 243
        }
      },
      "execution_count": 6,
      "outputs": [
        {
          "output_type": "display_data",
          "data": {
            "text/plain": [
              "ee.Geometry({\n",
              "  \"functionInvocationValue\": {\n",
              "    \"functionName\": \"GeometryConstructors.Point\",\n",
              "    \"arguments\": {\n",
              "      \"coordinates\": {\n",
              "        \"constantValue\": [\n",
              "          38.5914,\n",
              "          7.71\n",
              "        ]\n",
              "      }\n",
              "    }\n",
              "  }\n",
              "})"
            ]
          },
          "metadata": {}
        }
      ]
    },
    {
      "cell_type": "markdown",
      "metadata": {
        "id": "xMiSIseyF6ao"
      },
      "source": [
        "In this example, we are going to use the ESRI land cover data to create label dataset for training"
      ]
    },
    {
      "cell_type": "code",
      "source": [
        "#Import ESRI Data\n",
        "lc = ee.ImageCollection(\"projects/sat-io/open-datasets/landcover/ESRI_Global-LULC_10m\").mosaic().clip(image.geometry())\n",
        "label = 'b1'\n",
        "\n",
        "# Sample the input imagery to get a FeatureCollection of training data.\n",
        "sample = image.addBands(lc).sample(**{\n",
        "  'region': image.geometry(),\n",
        "  'numPixels': 1000,\n",
        "  'seed': 0\n",
        "})\n",
        "\n",
        "# Add a random value field to the sample and use it to approximately split 80%\n",
        "# of the features into a training set and 20% into a validation set.\n",
        "sample = sample.randomColumn()\n",
        "trainingSample = sample.filter('random <= 0.8')\n",
        "validationSample = sample.filter('random > 0.8')\n",
        "\n",
        "# Train a 10-tree random forest classifier from the training sample.\n",
        "trainedClassifier = ee.Classifier.smileRandomForest(10).train(**{\n",
        "  'features': trainingSample,\n",
        "  'classProperty': label,\n",
        "  'inputProperties': bands\n",
        "})\n",
        "\n",
        "# Classify the reflectance image from the trained classifier.\n",
        "model = image.classify(trainedClassifier)"
      ],
      "metadata": {
        "id": "Fz-EDkvixXVF"
      },
      "execution_count": null,
      "outputs": []
    },
    {
      "cell_type": "code",
      "source": [
        "# Import the Folium library.\n",
        "import folium\n",
        "\n",
        "# Define a method for displaying Earth Engine image tiles to folium map.\n",
        "def addLayer (self, ee_image_object, vis_params, name):\n",
        "  map_id_dict = ee.Image(ee_image_object).getMapId(vis_params)\n",
        "  folium.raster_layers.TileLayer(\n",
        "    tiles = map_id_dict['tile_fetcher'].url_format,\n",
        "    attr = 'Map Data &copy; <a href=\"https://earthengine.google.com/\">Google Earth Engine</a>',\n",
        "    name = name,\n",
        "    overlay = True,\n",
        "    control = True\n",
        "  ).add_to(self)\n",
        "\n",
        "# Create the map object.\n",
        "Map = folium.Map(location=location, zoom_start = 8)\n",
        "\n",
        "# Add base map\n",
        "basemaps = {'Google Satellite Hybrid': folium.TileLayer(\n",
        "tiles = 'https://mt1.google.com/vt/lyrs=s&x={x}&y={y}&z={z}',\n",
        "attr = 'Google',\n",
        "name = 'Google Satellite Hybrid',\n",
        "overlay = True,\n",
        "control = True\n",
        ")}\n",
        "basemaps['Google Satellite Hybrid'].add_to(Map)"
      ],
      "metadata": {
        "colab": {
          "base_uri": "https://localhost:8080/"
        },
        "id": "75y6Mux40St5",
        "outputId": "82244af6-8833-40a8-efc0-9d9b64439014"
      },
      "execution_count": null,
      "outputs": [
        {
          "output_type": "execute_result",
          "data": {
            "text/plain": [
              "<folium.raster_layers.TileLayer at 0x7f58432a8090>"
            ]
          },
          "metadata": {},
          "execution_count": 67
        }
      ]
    },
    {
      "cell_type": "code",
      "source": [
        "# Define a dictionary which will be used to make legend and visualize image on map\n",
        "dict = {\n",
        "  \"names\": [\n",
        "    \"Water\",\n",
        "    \"Trees\",\n",
        "    \"Grass\",\n",
        "    \"Flooded Vegetation\",\n",
        "    \"Crops\",\n",
        "    \"Scrub/Shrub\",\n",
        "    \"Built Area\",\n",
        "    \"Bare Ground\",\n",
        "    \"Snow/Ice\",\n",
        "    \"Clouds\"\n",
        "  ],\n",
        "  \n",
        "  \"colors\": [\n",
        "    \"#1A5BAB\",\n",
        "    \"#358221\",\n",
        "    \"#A7D282\",\n",
        "    \"#87D19E\",\n",
        "    \"#FFDB5C\",\n",
        "    \"#EECFA8\",\n",
        "    \"#ED022A\",\n",
        "    \"#EDE9E4\",\n",
        "    \"#F2FAFF\",\n",
        "    \"#C8C8C8\"\n",
        "  ]}\n",
        "\n",
        "# Add land cover to the map object.\n",
        "#Map.addLayer(lc, {'min':1, 'max':10, 'palette':dict['colors']}, 'ESRI LULC 10m')\n",
        "Map.addLayer(model, {'min':1, 'max':10, 'palette':dict['colors']},'Classified 2021')\n",
        "\n",
        "visParamsTrue = {'bands': ['B4',  'B3',  'B2'], 'min': 0, 'max': 3000, 'gamma': 1.4}\n",
        "Map.addLayer(image, visParamsTrue, \"Landsat 2021\")\n",
        "\n",
        "\n",
        "# Add a layer control panel to the map.\n",
        "Map.add_child(folium.LayerControl())\n",
        "\n",
        "# Display the map.\n",
        "display(Map)"
      ],
      "metadata": {
        "colab": {
          "base_uri": "https://localhost:8080/",
          "height": 782
        },
        "id": "AkKfTJ1GwFIs",
        "outputId": "7c3eea4a-99cb-462e-eb95-2176e184efd0"
      },
      "execution_count": null,
      "outputs": [
        {
          "output_type": "display_data",
          "data": {
            "text/plain": [
              "<folium.folium.Map at 0x7f5842ffda10>"
            ],
            "text/html": [
              "<div style=\"width:100%;\"><div style=\"position:relative;width:100%;height:0;padding-bottom:60%;\"><span style=\"color:#565656\">Make this Notebook Trusted to load map: File -> Trust Notebook</span><iframe srcdoc=\"&lt;!DOCTYPE html&gt;\n",
              "&lt;head&gt;    \n",
              "    &lt;meta http-equiv=&quot;content-type&quot; content=&quot;text/html; charset=UTF-8&quot; /&gt;\n",
              "    \n",
              "        &lt;script&gt;\n",
              "            L_NO_TOUCH = false;\n",
              "            L_DISABLE_3D = false;\n",
              "        &lt;/script&gt;\n",
              "    \n",
              "    &lt;style&gt;html, body {width: 100%;height: 100%;margin: 0;padding: 0;}&lt;/style&gt;\n",
              "    &lt;style&gt;#map {position:absolute;top:0;bottom:0;right:0;left:0;}&lt;/style&gt;\n",
              "    &lt;script src=&quot;https://cdn.jsdelivr.net/npm/leaflet@1.6.0/dist/leaflet.js&quot;&gt;&lt;/script&gt;\n",
              "    &lt;script src=&quot;https://code.jquery.com/jquery-1.12.4.min.js&quot;&gt;&lt;/script&gt;\n",
              "    &lt;script src=&quot;https://maxcdn.bootstrapcdn.com/bootstrap/3.2.0/js/bootstrap.min.js&quot;&gt;&lt;/script&gt;\n",
              "    &lt;script src=&quot;https://cdnjs.cloudflare.com/ajax/libs/Leaflet.awesome-markers/2.0.2/leaflet.awesome-markers.js&quot;&gt;&lt;/script&gt;\n",
              "    &lt;link rel=&quot;stylesheet&quot; href=&quot;https://cdn.jsdelivr.net/npm/leaflet@1.6.0/dist/leaflet.css&quot;/&gt;\n",
              "    &lt;link rel=&quot;stylesheet&quot; href=&quot;https://maxcdn.bootstrapcdn.com/bootstrap/3.2.0/css/bootstrap.min.css&quot;/&gt;\n",
              "    &lt;link rel=&quot;stylesheet&quot; href=&quot;https://maxcdn.bootstrapcdn.com/bootstrap/3.2.0/css/bootstrap-theme.min.css&quot;/&gt;\n",
              "    &lt;link rel=&quot;stylesheet&quot; href=&quot;https://maxcdn.bootstrapcdn.com/font-awesome/4.6.3/css/font-awesome.min.css&quot;/&gt;\n",
              "    &lt;link rel=&quot;stylesheet&quot; href=&quot;https://cdnjs.cloudflare.com/ajax/libs/Leaflet.awesome-markers/2.0.2/leaflet.awesome-markers.css&quot;/&gt;\n",
              "    &lt;link rel=&quot;stylesheet&quot; href=&quot;https://cdn.jsdelivr.net/gh/python-visualization/folium/folium/templates/leaflet.awesome.rotate.min.css&quot;/&gt;\n",
              "    \n",
              "            &lt;meta name=&quot;viewport&quot; content=&quot;width=device-width,\n",
              "                initial-scale=1.0, maximum-scale=1.0, user-scalable=no&quot; /&gt;\n",
              "            &lt;style&gt;\n",
              "                #map_e1f5b5bae4603cc54cc22262de5891ed {\n",
              "                    position: relative;\n",
              "                    width: 100.0%;\n",
              "                    height: 100.0%;\n",
              "                    left: 0.0%;\n",
              "                    top: 0.0%;\n",
              "                }\n",
              "            &lt;/style&gt;\n",
              "        \n",
              "&lt;/head&gt;\n",
              "&lt;body&gt;    \n",
              "    \n",
              "            &lt;div class=&quot;folium-map&quot; id=&quot;map_e1f5b5bae4603cc54cc22262de5891ed&quot; &gt;&lt;/div&gt;\n",
              "        \n",
              "&lt;/body&gt;\n",
              "&lt;script&gt;    \n",
              "    \n",
              "            var map_e1f5b5bae4603cc54cc22262de5891ed = L.map(\n",
              "                &quot;map_e1f5b5bae4603cc54cc22262de5891ed&quot;,\n",
              "                {\n",
              "                    center: [7.709999999999999, 38.59140000000001],\n",
              "                    crs: L.CRS.EPSG3857,\n",
              "                    zoom: 8,\n",
              "                    zoomControl: true,\n",
              "                    preferCanvas: false,\n",
              "                }\n",
              "            );\n",
              "\n",
              "            \n",
              "\n",
              "        \n",
              "    \n",
              "            var tile_layer_20b1d8a5b080e0386e9e4e9910e33fa2 = L.tileLayer(\n",
              "                &quot;https://{s}.tile.openstreetmap.org/{z}/{x}/{y}.png&quot;,\n",
              "                {&quot;attribution&quot;: &quot;Data by \\u0026copy; \\u003ca href=\\&quot;http://openstreetmap.org\\&quot;\\u003eOpenStreetMap\\u003c/a\\u003e, under \\u003ca href=\\&quot;http://www.openstreetmap.org/copyright\\&quot;\\u003eODbL\\u003c/a\\u003e.&quot;, &quot;detectRetina&quot;: false, &quot;maxNativeZoom&quot;: 18, &quot;maxZoom&quot;: 18, &quot;minZoom&quot;: 0, &quot;noWrap&quot;: false, &quot;opacity&quot;: 1, &quot;subdomains&quot;: &quot;abc&quot;, &quot;tms&quot;: false}\n",
              "            ).addTo(map_e1f5b5bae4603cc54cc22262de5891ed);\n",
              "        \n",
              "    \n",
              "            var tile_layer_a3a64566921f9b64356cfadb191b7451 = L.tileLayer(\n",
              "                &quot;https://mt1.google.com/vt/lyrs=s\\u0026x={x}\\u0026y={y}\\u0026z={z}&quot;,\n",
              "                {&quot;attribution&quot;: &quot;Google&quot;, &quot;detectRetina&quot;: false, &quot;maxNativeZoom&quot;: 18, &quot;maxZoom&quot;: 18, &quot;minZoom&quot;: 0, &quot;noWrap&quot;: false, &quot;opacity&quot;: 1, &quot;subdomains&quot;: &quot;abc&quot;, &quot;tms&quot;: false}\n",
              "            ).addTo(map_e1f5b5bae4603cc54cc22262de5891ed);\n",
              "        \n",
              "    \n",
              "            var tile_layer_634e494cd14755ca565d35cd3ebdeb52 = L.tileLayer(\n",
              "                &quot;https://earthengine.googleapis.com/v1alpha/projects/earthengine-legacy/maps/0dd7ab55126b24f2130797b503d19d80-aa492f7e3d8db9d120005a7bdefacf52/tiles/{z}/{x}/{y}&quot;,\n",
              "                {&quot;attribution&quot;: &quot;Map Data \\u0026copy; \\u003ca href=\\&quot;https://earthengine.google.com/\\&quot;\\u003eGoogle Earth Engine\\u003c/a\\u003e&quot;, &quot;detectRetina&quot;: false, &quot;maxNativeZoom&quot;: 18, &quot;maxZoom&quot;: 18, &quot;minZoom&quot;: 0, &quot;noWrap&quot;: false, &quot;opacity&quot;: 1, &quot;subdomains&quot;: &quot;abc&quot;, &quot;tms&quot;: false}\n",
              "            ).addTo(map_e1f5b5bae4603cc54cc22262de5891ed);\n",
              "        \n",
              "    \n",
              "            var tile_layer_4218f5991c434b20f56eb7648085e531 = L.tileLayer(\n",
              "                &quot;https://earthengine.googleapis.com/v1alpha/projects/earthengine-legacy/maps/895b26538d5405543d8b9d266bc98b2f-acf40c49b7b3a41987dea71c77189b1b/tiles/{z}/{x}/{y}&quot;,\n",
              "                {&quot;attribution&quot;: &quot;Map Data \\u0026copy; \\u003ca href=\\&quot;https://earthengine.google.com/\\&quot;\\u003eGoogle Earth Engine\\u003c/a\\u003e&quot;, &quot;detectRetina&quot;: false, &quot;maxNativeZoom&quot;: 18, &quot;maxZoom&quot;: 18, &quot;minZoom&quot;: 0, &quot;noWrap&quot;: false, &quot;opacity&quot;: 1, &quot;subdomains&quot;: &quot;abc&quot;, &quot;tms&quot;: false}\n",
              "            ).addTo(map_e1f5b5bae4603cc54cc22262de5891ed);\n",
              "        \n",
              "    \n",
              "            var layer_control_49a2a37f9bb2a3fb7d40a4cea1835959 = {\n",
              "                base_layers : {\n",
              "                    &quot;openstreetmap&quot; : tile_layer_20b1d8a5b080e0386e9e4e9910e33fa2,\n",
              "                },\n",
              "                overlays :  {\n",
              "                    &quot;Google Satellite Hybrid&quot; : tile_layer_a3a64566921f9b64356cfadb191b7451,\n",
              "                    &quot;Classified 2021&quot; : tile_layer_634e494cd14755ca565d35cd3ebdeb52,\n",
              "                    &quot;Landsat 2021&quot; : tile_layer_4218f5991c434b20f56eb7648085e531,\n",
              "                },\n",
              "            };\n",
              "            L.control.layers(\n",
              "                layer_control_49a2a37f9bb2a3fb7d40a4cea1835959.base_layers,\n",
              "                layer_control_49a2a37f9bb2a3fb7d40a4cea1835959.overlays,\n",
              "                {&quot;autoZIndex&quot;: true, &quot;collapsed&quot;: true, &quot;position&quot;: &quot;topright&quot;}\n",
              "            ).addTo(map_e1f5b5bae4603cc54cc22262de5891ed);\n",
              "        \n",
              "&lt;/script&gt;\" style=\"position:absolute;width:100%;height:100%;left:0;top:0;border:none !important;\" allowfullscreen webkitallowfullscreen mozallowfullscreen></iframe></div></div>"
            ]
          },
          "metadata": {}
        }
      ]
    }
  ],
  "metadata": {
    "kernelspec": {
      "display_name": "Python 3 (ipykernel)",
      "language": "python",
      "name": "python3"
    },
    "language_info": {
      "codemirror_mode": {
        "name": "ipython",
        "version": 3
      },
      "file_extension": ".py",
      "mimetype": "text/x-python",
      "name": "python",
      "nbconvert_exporter": "python",
      "pygments_lexer": "ipython3",
      "version": "3.9.12"
    },
    "colab": {
      "provenance": [],
      "collapsed_sections": [],
      "include_colab_link": true
    }
  },
  "nbformat": 4,
  "nbformat_minor": 0
}